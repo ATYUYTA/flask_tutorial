{
 "cells": [
  {
   "cell_type": "code",
   "execution_count": null,
   "metadata": {},
   "outputs": [],
   "source": [
    "#製作環境\n",
    "from flask import Flask, request, jsonify\n",
    "import pymysql\n",
    "import datetime"
   ]
  },
  {
   "cell_type": "code",
   "execution_count": null,
   "metadata": {},
   "outputs": [],
   "source": [
    "#呼叫出Flask\n",
    "app = Flask(__name__)"
   ]
  },
  {
   "cell_type": "code",
   "execution_count": null,
   "metadata": {},
   "outputs": [],
   "source": [
    "#建立與mysql的連線\n",
    "conn = pymysql.connect(host='db', port=3306, user='root', passwd='iii', db='chatbot_db',charset='utf8mb4')\n"
   ]
  },
  {
   "cell_type": "code",
   "execution_count": null,
   "metadata": {},
   "outputs": [],
   "source": [
    "#方便用來跟mysql互動\n",
    "cur = conn.cursor()"
   ]
  },
  {
   "cell_type": "code",
   "execution_count": null,
   "metadata": {},
   "outputs": [],
   "source": [
    "#接口功能：檢視所有使用者資訊\n",
    "#接口位置：/users，使用get的http method\n",
    "@app.route('/users',methods=['GET'])\n",
    "def read_users():\n",
    "    #找出資料庫內的所有user資料\n",
    "    cur.execute('SELECT * FROM chatbot_db.users')\n",
    "    #由於是多筆，使用fetchall\n",
    "    user = cur.fetchall()\n",
    "\n",
    "    #裝成矩陣格式\n",
    "    answer = []\n",
    "    for i in user:\n",
    "        result = {\n",
    "                \"user_open_id\":i[0],\n",
    "                \"user_nick_name\":i[1],\n",
    "                \"user_status\" : i[2],\n",
    "                \"user_img\" : i[3],\n",
    "                \"user_register_date\" : i[4],\n",
    "                \"user_register_menu\" : i[5]\n",
    "            }\n",
    "        answer.append(result)\n",
    "      \n",
    "    #轉成json格式\n",
    "    return jsonify(answer)"
   ]
  },
  {
   "cell_type": "code",
   "execution_count": null,
   "metadata": {},
   "outputs": [],
   "source": [
    "#接口功能：對資料庫新增使用者資料\n",
    "#接口位置：/users，使用post的http method\n",
    "@app.route('/users',methods=['POST'])\n",
    "def add_user():\n",
    "    #抓跑function時的時間\n",
    "    time = datetime.datetime.utcnow().strftime(\"%Y%m%d%H%M\")\n",
    "    #將傳過來的json檔擷取出來\n",
    "    a = request.get_json()\n",
    "\n",
    "    #插入資料庫中，要按照資料庫的格式塞入\n",
    "    insertsql=(\"INSERT INTO chatbot_db.users VALUES ( %s,%s,%s,%s,%s,%s )\") \n",
    "    value = (a['user_open_id'],\n",
    "                 a['user_nick_name'],\n",
    "                 a['user_status'],\n",
    "                 a['user_img'],\n",
    "                 time,\n",
    "                 a['user_register_menu'])\n",
    "    cur.execute(insertsql , value)\n",
    "    #將資料送進資料庫中\n",
    "    conn.commit()\n",
    "    #回傳一個正確的描述\n",
    "    result =  { \"status_describe\":\"success add user\" }\n",
    "    return jsonify(result)"
   ]
  },
  {
   "cell_type": "code",
   "execution_count": null,
   "metadata": {},
   "outputs": [],
   "source": [
    "#接口功能：更新指定使用者資訊\n",
    "#接口位置：/users/<userid>，使用put的http method\n",
    "@app.route('/users/<userid>',methods=['PUT'])\n",
    "#由於使用url parameter 所以有擷取userid\n",
    "def update_user(userid):\n",
    "    #取出傳過來的資料\n",
    "    a = request.get_json()\n",
    "    #方便錯誤排除\n",
    "    error = None\n",
    "    \n",
    "    #看看資料庫內是否有重複的id\n",
    "    cur.execute('SELECT user_open_id FROM chatbot_db.users WHERE user_open_id = (\"%s\")' % (userid))\n",
    "    test = cur.fetchone()\n",
    "    #沒有重複的話\n",
    "    if not test:\n",
    "        error = 'Please enter the right id.'\n",
    "\n",
    "    #沒有錯誤的話，將資料更新進資料庫\n",
    "    if error is None:\n",
    "        #更新資料庫\n",
    "        insertsql=('UPDATE chatbot_db.users SET user_nick_name=(\"%s\"),user_status=(\"%s\"),user_img=(\"%s\"),user_register_menu=(\"%s\") WHERE user_open_id=(\"%s\")') % (a['user_nick_name'],a['user_status'],a['user_img'],a['user_register_menu'],a[\"user_open_id\"])\n",
    "        cur.execute(insertsql)\n",
    "        conn.commit()\n",
    "        #回傳一個正確的描述\n",
    "        result =  { \"status_describe\":\"success update user\" }\n",
    "        return jsonify(result)\n",
    "    \n",
    "    \n",
    "    #製作一個錯誤的描述\n",
    "    result = {\"status_describe\":\"{}\".format(error)}\n",
    "    \n",
    "    #回傳轉檔成json格式的錯誤描述\n",
    "    return jsonify(result)"
   ]
  },
  {
   "cell_type": "code",
   "execution_count": null,
   "metadata": {},
   "outputs": [],
   "source": [
    "#__name__ == __main__ 代表你執行這個模塊（py檔）時會成立\n",
    "#假如你是被別的檔案import的話，__name__ == 檔案名稱，這個if就不會成立\n",
    "if __name__=='__main__':\n",
    "\n",
    "    #運行flask server，運行在0.0.0.0:5000\n",
    "    #要特別注意假如運行在127.0.0.1的話，會變成只有本機連的到，外網無法\n",
    "    app.run(host='0.0.0.0',port=5000)"
   ]
  },
  {
   "cell_type": "code",
   "execution_count": null,
   "metadata": {},
   "outputs": [],
   "source": []
  }
 ],
 "metadata": {
  "kernelspec": {
   "display_name": "Python 3",
   "language": "python",
   "name": "python3"
  },
  "language_info": {
   "codemirror_mode": {
    "name": "ipython",
    "version": 3
   },
   "file_extension": ".py",
   "mimetype": "text/x-python",
   "name": "python",
   "nbconvert_exporter": "python",
   "pygments_lexer": "ipython3",
   "version": "3.7.1"
  }
 },
 "nbformat": 4,
 "nbformat_minor": 2
}
