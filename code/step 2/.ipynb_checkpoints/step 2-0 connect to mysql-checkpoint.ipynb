{
 "cells": [
  {
   "cell_type": "code",
   "execution_count": null,
   "metadata": {},
   "outputs": [],
   "source": [
    "#製作環境\n",
    "from flask import Flask, request, jsonify\n",
    "import pymysql\n",
    "import datetime"
   ]
  },
  {
   "cell_type": "code",
   "execution_count": null,
   "metadata": {},
   "outputs": [],
   "source": [
    "#建立與mysql的連線\n",
    "conn = pymysql.connect(host='db', port=3306, user='root', passwd='iii', db='chatbot_db',charset='utf8mb4')\n"
   ]
  },
  {
   "cell_type": "code",
   "execution_count": null,
   "metadata": {},
   "outputs": [],
   "source": [
    "#方便用來跟mysql互動\n",
    "cur = conn.cursor()"
   ]
  },
  {
   "cell_type": "code",
   "execution_count": null,
   "metadata": {},
   "outputs": [],
   "source": [
    "insertsql=(\"create table test (number varchar(255))ENGINE=InnoDB DEFAULT CHARSET=utf8mb4\")\n",
    "cur.execute(insertsql)\n",
    "#將資料送進資料庫中\n",
    "conn.commit()"
   ]
  },
  {
   "cell_type": "code",
   "execution_count": null,
   "metadata": {},
   "outputs": [],
   "source": [
    "insertsql=(\"INSERT INTO chatbot_db.test VALUES (%s)\") % (\"123\")\n",
    "cur.execute(insertsql)\n",
    "#將資料送進資料庫中\n",
    "conn.commit()"
   ]
  },
  {
   "cell_type": "code",
   "execution_count": null,
   "metadata": {},
   "outputs": [],
   "source": [
    "cur.execute('SELECT * FROM chatbot_db.test')\n",
    "#由於是多筆，使用fetchall\n",
    "user = cur.fetchall()\n",
    "#裝成矩陣格式\n",
    "user[0]"
   ]
  },
  {
   "cell_type": "code",
   "execution_count": null,
   "metadata": {},
   "outputs": [],
   "source": [
    "\"\"\"\n",
    "\n",
    "底下的是相較進階的用法\n",
    "之後會運用在做line chat bot 上\n",
    "\n",
    "\n",
    "\n",
    "\n",
    "\"\"\""
   ]
  },
  {
   "cell_type": "code",
   "execution_count": null,
   "metadata": {},
   "outputs": [],
   "source": [
    "\"\"\"\n",
    "table chatbot_db.users的格式\n",
    "\n",
    "{\n",
    "    \"user_open_id\":\"abcDemo\",\n",
    "    \"user_nick_name\":\"yoyo\",\n",
    "    \"user_status\" : \"haha\",\n",
    "    \"user_img\" : \"https://ddascd\",\n",
    "    \"user_register_menu\" : \"xxxxxxx\"\n",
    "} \n",
    "\n",
    "\"\"\""
   ]
  },
  {
   "cell_type": "code",
   "execution_count": null,
   "metadata": {},
   "outputs": [],
   "source": [
    "#擷取現在時間\n",
    "time = datetime.datetime.utcnow().strftime(\"%Y%m%d%H%M\")\n",
    "\n",
    "#這個table chatbot_db.users是一開始做成mysql時就建好了\n",
    "insertsql=(\"INSERT INTO chatbot_db.users VALUES ( %s,%s,%s,%s,%s,%s )\") \n",
    "value = (\"test\",\"ATYUYTA\",\"freshman\",\"\",time,\"menu_id\")\n",
    "#執行並暫存\n",
    "cur.execute(insertsql , value)\n",
    "#將資料送進資料庫中\n",
    "conn.commit()"
   ]
  },
  {
   "cell_type": "code",
   "execution_count": null,
   "metadata": {},
   "outputs": [],
   "source": [
    "cur.execute('SELECT * FROM chatbot_db.users')\n",
    "#由於是多筆，使用fetchall\n",
    "user = cur.fetchall()\n",
    "\n",
    "#裝成矩陣格式\n",
    "answer = []\n",
    "for i in user:\n",
    "    result = {\n",
    "            \"user_open_id\":i[0],\n",
    "            \"user_nick_name\":i[1],\n",
    "            \"user_status\" : i[2],\n",
    "            \"user_img\" : i[3],\n",
    "            \"user_register_date\" : i[4],\n",
    "            \"user_register_menu\" : i[5]\n",
    "            }\n",
    "    answer.append(result)\n",
    "print(answer)"
   ]
  }
 ],
 "metadata": {
  "kernelspec": {
   "display_name": "Python 3",
   "language": "python",
   "name": "python3"
  },
  "language_info": {
   "codemirror_mode": {
    "name": "ipython",
    "version": 3
   },
   "file_extension": ".py",
   "mimetype": "text/x-python",
   "name": "python",
   "nbconvert_exporter": "python",
   "pygments_lexer": "ipython3",
   "version": "3.7.1"
  }
 },
 "nbformat": 4,
 "nbformat_minor": 2
}
